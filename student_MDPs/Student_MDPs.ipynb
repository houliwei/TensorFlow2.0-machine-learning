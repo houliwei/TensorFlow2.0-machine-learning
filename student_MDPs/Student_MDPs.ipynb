{
 "cells": [
  {
   "cell_type": "markdown",
   "metadata": {},
   "source": [
    "![](./1.jpg)"
   ]
  },
  {
   "cell_type": "markdown",
   "metadata": {},
   "source": [
    "- 图中红色的文字表示的是采取的行为"
   ]
  },
  {
   "cell_type": "markdown",
   "metadata": {},
   "source": [
    "![](./2.jpg)"
   ]
  },
  {
   "cell_type": "markdown",
   "metadata": {},
   "source": [
    "- 对于终点方框位置，由于其没有下一个状态，也没有当前状态的动作，因此其状态价值函数为0。\n",
    "- 其余四个状态S1、S2、S3、S4，我们依次定义其价值为 v1、v2、v3、v4。\n",
    "\n",
    "因此可以根据状态值函数的贝尔曼方程列出方程组，对所有的状态值函数进行求解。"
   ]
  },
  {
   "cell_type": "markdown",
   "metadata": {},
   "source": [
    "![](./3.JPG)"
   ]
  },
  {
   "cell_type": "markdown",
   "metadata": {},
   "source": [
    "![](./4.JPG)"
   ]
  },
  {
   "cell_type": "markdown",
   "metadata": {},
   "source": [
    "同理有：\n",
    "![](./5.JPG)\n",
    "\n",
    "![](./6.JPG)\n",
    "\n",
    "![](./7.JPG)"
   ]
  },
  {
   "cell_type": "markdown",
   "metadata": {},
   "source": [
    "于是我们得到一个关于v1、v2、v3、v4的方程组：\n",
    "\n",
    "![](./8.JPG)"
   ]
  },
  {
   "cell_type": "code",
   "execution_count": 1,
   "metadata": {},
   "outputs": [
    {
     "name": "stdout",
     "output_type": "stream",
     "text": [
      "c=\n",
      "[[-1.308]\n",
      " [ 2.692]\n",
      " [ 7.385]\n",
      " [-2.308]]\n"
     ]
    }
   ],
   "source": [
    "import numpy as np\n",
    "np.set_printoptions(precision=3, threshold=np.inf, linewidth=400, suppress=True)\n",
    "a = np.array([[-1,0.5,0,0.5],[0,-1,0.5,0],[0.1,0.2,-0.8,0],[0.5,0,0,-0.5]])\n",
    "b = np.array([[1.5],[1.0],[-5.5],[0.5]])\n",
    "c = np.dot(np.linalg.inv(a), b)\n",
    "print(\"c=\\n{}\".format(c))"
   ]
  },
  {
   "cell_type": "markdown",
   "metadata": {},
   "source": [
    "即：\n",
    "\n",
    "![](./9.JPG)"
   ]
  },
  {
   "cell_type": "markdown",
   "metadata": {},
   "source": [
    "## Bellman期望方程矩阵形式"
   ]
  },
  {
   "cell_type": "markdown",
   "metadata": {},
   "source": [
    "![](./10.JPG)"
   ]
  },
  {
   "cell_type": "markdown",
   "metadata": {},
   "source": [
    "**π(a|s)=0.5**\n",
    "\n",
    "**γ=1**"
   ]
  },
  {
   "cell_type": "markdown",
   "metadata": {},
   "source": [
    "![](./11.JPG)\n",
    "\n",
    "![](./12.JPG)"
   ]
  },
  {
   "cell_type": "code",
   "execution_count": 4,
   "metadata": {},
   "outputs": [
    {
     "name": "stdout",
     "output_type": "stream",
     "text": [
      "v=\n",
      "[[-1.308]\n",
      " [ 2.692]\n",
      " [ 7.385]\n",
      " [-2.308]\n",
      " [ 0.   ]]\n"
     ]
    }
   ],
   "source": [
    "import numpy as np\n",
    "np.set_printoptions(precision=3, threshold=np.inf, linewidth=400, suppress=True)\n",
    "gamma = 1.0\n",
    "E = np.eye(5)\n",
    "P = np.array(\n",
    "   [[0,0.5,0,0.5,0],\n",
    "    [0,0,0.5,0,0.5],\n",
    "    [0.1,0.2,0.2,0,0.5],\n",
    "    [0.5,0,0,0.5,0],\n",
    "    [0,0,0,0,1]])\n",
    "R = np.array([[-1.5],[-1],[5.5],[-0.5],[0]])\n",
    "# print(np.linalg.det(E-gamma*P))\n",
    "# np.linalg.det(E-gamma*P)=0.0 --> E-gamma*P是奇异矩阵\n",
    "# 给矩阵主对角线每一个元素加一个很小的量，如1e-6，使其强制可逆\n",
    "# print(np.linalg.det(E*1e-6+E-gamma*P))\n",
    "# np.linalg.det(E*1e-6+E-gamma*P)=1.6250e-07\n",
    "v = np.dot(np.linalg.inv(E*1e-6+E-gamma*P), R)\n",
    "print(\"v=\\n{}\".format(v))"
   ]
  },
  {
   "cell_type": "code",
   "execution_count": null,
   "metadata": {},
   "outputs": [],
   "source": []
  }
 ],
 "metadata": {
  "kernelspec": {
   "display_name": "Python 3",
   "language": "python",
   "name": "python3"
  },
  "language_info": {
   "codemirror_mode": {
    "name": "ipython",
    "version": 3
   },
   "file_extension": ".py",
   "mimetype": "text/x-python",
   "name": "python",
   "nbconvert_exporter": "python",
   "pygments_lexer": "ipython3",
   "version": "3.7.4"
  }
 },
 "nbformat": 4,
 "nbformat_minor": 2
}
